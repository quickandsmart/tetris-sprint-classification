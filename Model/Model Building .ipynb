{
 "cells": [
  {
   "cell_type": "markdown",
   "id": "07084d76",
   "metadata": {},
   "source": [
    "<h1 style='color:blue' align='center'>Data Science Classification Project: Classifying Sprint Stacking Style in Tetr.io </h1>"
   ]
  },
  {
   "cell_type": "code",
   "execution_count": 1,
   "id": "e88d3eb5",
   "metadata": {},
   "outputs": [],
   "source": [
    "import pandas as pd \n",
    "import seaborn as sns\n",
    "import matplotlib.pyplot as plt\n",
    "import warnings\n",
    "from sklearn.metrics import classification_report \n",
    "from sklearn.metrics import confusion_matrix\n",
    "import pandas as pd\n",
    "import numpy as np\n",
    "from sklearn.preprocessing import StandardScaler\n",
    "from sklearn.model_selection import ShuffleSplit, GridSearchCV, train_test_split\n",
    "from sklearn.ensemble import RandomForestClassifier\n",
    "from sklearn.metrics import accuracy_score\n",
    "from sklearn.neighbors import KNeighborsClassifier\n",
    "from sklearn.ensemble import GradientBoostingClassifier\n",
    "from imblearn.over_sampling import SMOTE\n",
    "import pickle\n",
    "import requests\n",
    "\n",
    "warnings.filterwarnings(\"ignore\")\n",
    "pd.set_option('display.max_columns', None)"
   ]
  },
  {
   "cell_type": "markdown",
   "id": "fa5a62ef",
   "metadata": {},
   "source": [
    "**To get this information, a sample of users was first grabbed from the tetra league leaderboard api and then each of these user's sprint pbs was then grabbed using the player api. I then manually reviewed the replay and classified their sprint style. More information can be found in the Sprint Data Collection Notebook**"
   ]
  },
  {
   "cell_type": "code",
   "execution_count": 2,
   "id": "a49b11e4",
   "metadata": {},
   "outputs": [],
   "source": [
    "df = pd.read_csv(\"collected_sprint_data.csv\")"
   ]
  },
  {
   "cell_type": "code",
   "execution_count": 3,
   "id": "e239ebdb",
   "metadata": {
    "scrolled": false
   },
   "outputs": [
    {
     "data": {
      "text/html": [
       "<div>\n",
       "<style scoped>\n",
       "    .dataframe tbody tr th:only-of-type {\n",
       "        vertical-align: middle;\n",
       "    }\n",
       "\n",
       "    .dataframe tbody tr th {\n",
       "        vertical-align: top;\n",
       "    }\n",
       "\n",
       "    .dataframe thead th {\n",
       "        text-align: right;\n",
       "    }\n",
       "</style>\n",
       "<table border=\"1\" class=\"dataframe\">\n",
       "  <thead>\n",
       "    <tr style=\"text-align: right;\">\n",
       "      <th></th>\n",
       "      <th>seed</th>\n",
       "      <th>lines</th>\n",
       "      <th>inputs</th>\n",
       "      <th>holds</th>\n",
       "      <th>score</th>\n",
       "      <th>combo</th>\n",
       "      <th>topcombo</th>\n",
       "      <th>btb</th>\n",
       "      <th>topbtb</th>\n",
       "      <th>tspins</th>\n",
       "      <th>piecesplaced</th>\n",
       "      <th>finalTime</th>\n",
       "      <th>clears.singles</th>\n",
       "      <th>clears.doubles</th>\n",
       "      <th>clears.triples</th>\n",
       "      <th>clears.quads</th>\n",
       "      <th>clears.realtspins</th>\n",
       "      <th>clears.minitspins</th>\n",
       "      <th>clears.minitspinsingles</th>\n",
       "      <th>clears.tspinsingles</th>\n",
       "      <th>clears.tspindoubles</th>\n",
       "      <th>clears.tspintriples</th>\n",
       "      <th>clears.allclear</th>\n",
       "      <th>finesse.combo</th>\n",
       "      <th>finesse.faults</th>\n",
       "      <th>finesse.perfectpieces</th>\n",
       "      <th>replayid</th>\n",
       "      <th>replay_to_copy</th>\n",
       "      <th>Stacking</th>\n",
       "      <th>Mix1</th>\n",
       "      <th>Mix2</th>\n",
       "      <th>Mix3</th>\n",
       "    </tr>\n",
       "  </thead>\n",
       "  <tbody>\n",
       "    <tr>\n",
       "      <th>0</th>\n",
       "      <td>1.506296e+09</td>\n",
       "      <td>40</td>\n",
       "      <td>408</td>\n",
       "      <td>23</td>\n",
       "      <td>12096</td>\n",
       "      <td>2</td>\n",
       "      <td>2</td>\n",
       "      <td>0</td>\n",
       "      <td>5</td>\n",
       "      <td>0</td>\n",
       "      <td>108</td>\n",
       "      <td>62650.00000</td>\n",
       "      <td>11</td>\n",
       "      <td>1</td>\n",
       "      <td>1</td>\n",
       "      <td>6</td>\n",
       "      <td>0</td>\n",
       "      <td>0</td>\n",
       "      <td>0</td>\n",
       "      <td>0</td>\n",
       "      <td>0</td>\n",
       "      <td>0</td>\n",
       "      <td>0</td>\n",
       "      <td>0</td>\n",
       "      <td>74</td>\n",
       "      <td>67</td>\n",
       "      <td>64258f17fb49ed069e697a91</td>\n",
       "      <td>r:64258f17fb49ed069e697a91</td>\n",
       "      <td>9-0</td>\n",
       "      <td>NaN</td>\n",
       "      <td>NaN</td>\n",
       "      <td>NaN</td>\n",
       "    </tr>\n",
       "    <tr>\n",
       "      <th>1</th>\n",
       "      <td>4.994133e+08</td>\n",
       "      <td>40</td>\n",
       "      <td>358</td>\n",
       "      <td>23</td>\n",
       "      <td>10802</td>\n",
       "      <td>1</td>\n",
       "      <td>6</td>\n",
       "      <td>0</td>\n",
       "      <td>1</td>\n",
       "      <td>0</td>\n",
       "      <td>102</td>\n",
       "      <td>79260.00000</td>\n",
       "      <td>8</td>\n",
       "      <td>6</td>\n",
       "      <td>4</td>\n",
       "      <td>2</td>\n",
       "      <td>0</td>\n",
       "      <td>0</td>\n",
       "      <td>0</td>\n",
       "      <td>0</td>\n",
       "      <td>0</td>\n",
       "      <td>0</td>\n",
       "      <td>0</td>\n",
       "      <td>8</td>\n",
       "      <td>41</td>\n",
       "      <td>80</td>\n",
       "      <td>640c4cbaaa4882e7599cfa0b</td>\n",
       "      <td>r:640c4cbaaa4882e7599cfa0b</td>\n",
       "      <td>2 wide</td>\n",
       "      <td>NaN</td>\n",
       "      <td>NaN</td>\n",
       "      <td>NaN</td>\n",
       "    </tr>\n",
       "    <tr>\n",
       "      <th>2</th>\n",
       "      <td>9.320079e+08</td>\n",
       "      <td>40</td>\n",
       "      <td>353</td>\n",
       "      <td>3</td>\n",
       "      <td>9142</td>\n",
       "      <td>2</td>\n",
       "      <td>3</td>\n",
       "      <td>0</td>\n",
       "      <td>0</td>\n",
       "      <td>0</td>\n",
       "      <td>102</td>\n",
       "      <td>59181.66667</td>\n",
       "      <td>18</td>\n",
       "      <td>8</td>\n",
       "      <td>2</td>\n",
       "      <td>0</td>\n",
       "      <td>0</td>\n",
       "      <td>0</td>\n",
       "      <td>0</td>\n",
       "      <td>0</td>\n",
       "      <td>0</td>\n",
       "      <td>0</td>\n",
       "      <td>0</td>\n",
       "      <td>1</td>\n",
       "      <td>56</td>\n",
       "      <td>70</td>\n",
       "      <td>63e8f77ff0cc508ed05d9475</td>\n",
       "      <td>r:63e8f77ff0cc508ed05d9475</td>\n",
       "      <td>Freestyle</td>\n",
       "      <td>NaN</td>\n",
       "      <td>NaN</td>\n",
       "      <td>NaN</td>\n",
       "    </tr>\n",
       "    <tr>\n",
       "      <th>3</th>\n",
       "      <td>1.302818e+08</td>\n",
       "      <td>41</td>\n",
       "      <td>643</td>\n",
       "      <td>9</td>\n",
       "      <td>9111</td>\n",
       "      <td>1</td>\n",
       "      <td>3</td>\n",
       "      <td>0</td>\n",
       "      <td>0</td>\n",
       "      <td>0</td>\n",
       "      <td>107</td>\n",
       "      <td>104233.33330</td>\n",
       "      <td>26</td>\n",
       "      <td>6</td>\n",
       "      <td>1</td>\n",
       "      <td>0</td>\n",
       "      <td>0</td>\n",
       "      <td>0</td>\n",
       "      <td>0</td>\n",
       "      <td>0</td>\n",
       "      <td>0</td>\n",
       "      <td>0</td>\n",
       "      <td>0</td>\n",
       "      <td>0</td>\n",
       "      <td>292</td>\n",
       "      <td>24</td>\n",
       "      <td>644a7a3844b3865c688c9fff</td>\n",
       "      <td>r:644a7a3844b3865c688c9fff</td>\n",
       "      <td>Freestyle</td>\n",
       "      <td>NaN</td>\n",
       "      <td>NaN</td>\n",
       "      <td>NaN</td>\n",
       "    </tr>\n",
       "    <tr>\n",
       "      <th>4</th>\n",
       "      <td>7.581925e+08</td>\n",
       "      <td>40</td>\n",
       "      <td>441</td>\n",
       "      <td>27</td>\n",
       "      <td>12574</td>\n",
       "      <td>1</td>\n",
       "      <td>11</td>\n",
       "      <td>0</td>\n",
       "      <td>1</td>\n",
       "      <td>2</td>\n",
       "      <td>104</td>\n",
       "      <td>103871.66670</td>\n",
       "      <td>20</td>\n",
       "      <td>9</td>\n",
       "      <td>0</td>\n",
       "      <td>0</td>\n",
       "      <td>0</td>\n",
       "      <td>0</td>\n",
       "      <td>2</td>\n",
       "      <td>0</td>\n",
       "      <td>0</td>\n",
       "      <td>0</td>\n",
       "      <td>0</td>\n",
       "      <td>0</td>\n",
       "      <td>101</td>\n",
       "      <td>58</td>\n",
       "      <td>63115f26cc59143b0f706c37</td>\n",
       "      <td>r:63115f26cc59143b0f706c37</td>\n",
       "      <td>3 wide</td>\n",
       "      <td>NaN</td>\n",
       "      <td>NaN</td>\n",
       "      <td>NaN</td>\n",
       "    </tr>\n",
       "  </tbody>\n",
       "</table>\n",
       "</div>"
      ],
      "text/plain": [
       "           seed  lines  inputs  holds  score  combo  topcombo  btb  topbtb   \n",
       "0  1.506296e+09     40     408     23  12096      2         2    0       5  \\\n",
       "1  4.994133e+08     40     358     23  10802      1         6    0       1   \n",
       "2  9.320079e+08     40     353      3   9142      2         3    0       0   \n",
       "3  1.302818e+08     41     643      9   9111      1         3    0       0   \n",
       "4  7.581925e+08     40     441     27  12574      1        11    0       1   \n",
       "\n",
       "   tspins  piecesplaced     finalTime  clears.singles  clears.doubles   \n",
       "0       0           108   62650.00000              11               1  \\\n",
       "1       0           102   79260.00000               8               6   \n",
       "2       0           102   59181.66667              18               8   \n",
       "3       0           107  104233.33330              26               6   \n",
       "4       2           104  103871.66670              20               9   \n",
       "\n",
       "   clears.triples  clears.quads  clears.realtspins  clears.minitspins   \n",
       "0               1             6                  0                  0  \\\n",
       "1               4             2                  0                  0   \n",
       "2               2             0                  0                  0   \n",
       "3               1             0                  0                  0   \n",
       "4               0             0                  0                  0   \n",
       "\n",
       "   clears.minitspinsingles  clears.tspinsingles  clears.tspindoubles   \n",
       "0                        0                    0                    0  \\\n",
       "1                        0                    0                    0   \n",
       "2                        0                    0                    0   \n",
       "3                        0                    0                    0   \n",
       "4                        2                    0                    0   \n",
       "\n",
       "   clears.tspintriples  clears.allclear  finesse.combo  finesse.faults   \n",
       "0                    0                0              0              74  \\\n",
       "1                    0                0              8              41   \n",
       "2                    0                0              1              56   \n",
       "3                    0                0              0             292   \n",
       "4                    0                0              0             101   \n",
       "\n",
       "   finesse.perfectpieces                  replayid   \n",
       "0                     67  64258f17fb49ed069e697a91  \\\n",
       "1                     80  640c4cbaaa4882e7599cfa0b   \n",
       "2                     70  63e8f77ff0cc508ed05d9475   \n",
       "3                     24  644a7a3844b3865c688c9fff   \n",
       "4                     58  63115f26cc59143b0f706c37   \n",
       "\n",
       "               replay_to_copy   Stacking Mix1 Mix2 Mix3  \n",
       "0  r:64258f17fb49ed069e697a91        9-0  NaN  NaN  NaN  \n",
       "1  r:640c4cbaaa4882e7599cfa0b     2 wide  NaN  NaN  NaN  \n",
       "2  r:63e8f77ff0cc508ed05d9475  Freestyle  NaN  NaN  NaN  \n",
       "3  r:644a7a3844b3865c688c9fff  Freestyle  NaN  NaN  NaN  \n",
       "4  r:63115f26cc59143b0f706c37     3 wide  NaN  NaN  NaN  "
      ]
     },
     "execution_count": 3,
     "metadata": {},
     "output_type": "execute_result"
    }
   ],
   "source": [
    "df.head()"
   ]
  },
  {
   "cell_type": "code",
   "execution_count": 4,
   "id": "6e644c35",
   "metadata": {},
   "outputs": [
    {
     "data": {
      "text/plain": [
       "(663, 32)"
      ]
     },
     "execution_count": 4,
     "metadata": {},
     "output_type": "execute_result"
    }
   ],
   "source": [
    "df.shape"
   ]
  },
  {
   "cell_type": "code",
   "execution_count": 5,
   "id": "2d6e3cdd",
   "metadata": {},
   "outputs": [
    {
     "data": {
      "text/plain": [
       "Index(['seed', 'lines', 'inputs', 'holds', 'score', 'combo', 'topcombo', 'btb',\n",
       "       'topbtb', 'tspins', 'piecesplaced', 'finalTime', 'clears.singles',\n",
       "       'clears.doubles', 'clears.triples', 'clears.quads', 'clears.realtspins',\n",
       "       'clears.minitspins', 'clears.minitspinsingles', 'clears.tspinsingles',\n",
       "       'clears.tspindoubles', 'clears.tspintriples', 'clears.allclear',\n",
       "       'finesse.combo', 'finesse.faults', 'finesse.perfectpieces', 'replayid',\n",
       "       'replay_to_copy', 'Stacking', 'Mix1', 'Mix2', 'Mix3'],\n",
       "      dtype='object')"
      ]
     },
     "execution_count": 5,
     "metadata": {},
     "output_type": "execute_result"
    }
   ],
   "source": [
    "df.columns"
   ]
  },
  {
   "cell_type": "markdown",
   "id": "824ff2f1",
   "metadata": {},
   "source": [
    "**Setting the ranks of each player as it will be used for EDA later**"
   ]
  },
  {
   "cell_type": "code",
   "execution_count": 6,
   "id": "3078e230",
   "metadata": {},
   "outputs": [],
   "source": [
    "ranks = ['a', 'a+', 'a-', 'b', 'b+', 'b-', 'c', 'c+', 'c-', 'd', 'd+', 's', 's+', 's-', 'ss', 'u', 'x']\n",
    "rank_counts = len(df) // len(ranks) \n",
    "df['Rank'] = [ranks[i // rank_counts] for i in range(len(df))]"
   ]
  },
  {
   "cell_type": "markdown",
   "id": "6719cfb8",
   "metadata": {},
   "source": [
    "<h2 style='color:blue'>Data Cleaning</h2>\n"
   ]
  },
  {
   "cell_type": "code",
   "execution_count": 7,
   "id": "b162ced7",
   "metadata": {},
   "outputs": [],
   "source": [
    "df2 = df.drop(['seed','replay_to_copy','replayid'],axis=1) #removing variables that aren't useful for the model"
   ]
  },
  {
   "cell_type": "code",
   "execution_count": 8,
   "id": "d232626b",
   "metadata": {
    "scrolled": true
   },
   "outputs": [
    {
     "data": {
      "text/plain": [
       "lines                      False\n",
       "inputs                     False\n",
       "holds                      False\n",
       "score                      False\n",
       "combo                      False\n",
       "topcombo                   False\n",
       "btb                        False\n",
       "topbtb                     False\n",
       "tspins                     False\n",
       "piecesplaced               False\n",
       "finalTime                  False\n",
       "clears.singles             False\n",
       "clears.doubles             False\n",
       "clears.triples             False\n",
       "clears.quads               False\n",
       "clears.realtspins          False\n",
       "clears.minitspins          False\n",
       "clears.minitspinsingles    False\n",
       "clears.tspinsingles        False\n",
       "clears.tspindoubles        False\n",
       "clears.tspintriples        False\n",
       "clears.allclear            False\n",
       "finesse.combo              False\n",
       "finesse.faults             False\n",
       "finesse.perfectpieces      False\n",
       "Stacking                    True\n",
       "Mix1                        True\n",
       "Mix2                        True\n",
       "Mix3                        True\n",
       "Rank                       False\n",
       "dtype: bool"
      ]
     },
     "execution_count": 8,
     "metadata": {},
     "output_type": "execute_result"
    }
   ],
   "source": [
    "df2.isnull().any()"
   ]
  },
  {
   "cell_type": "code",
   "execution_count": 9,
   "id": "9dd9d47c",
   "metadata": {},
   "outputs": [],
   "source": [
    "df3 = df2[~(df2.Stacking.isnull())]\n",
    "#removing runs where replay was not available "
   ]
  },
  {
   "cell_type": "code",
   "execution_count": 10,
   "id": "c88829f1",
   "metadata": {},
   "outputs": [
    {
     "data": {
      "text/plain": [
       "lines                        int64\n",
       "inputs                       int64\n",
       "holds                        int64\n",
       "score                        int64\n",
       "combo                        int64\n",
       "topcombo                     int64\n",
       "btb                          int64\n",
       "topbtb                       int64\n",
       "tspins                       int64\n",
       "piecesplaced                 int64\n",
       "finalTime                  float64\n",
       "clears.singles               int64\n",
       "clears.doubles               int64\n",
       "clears.triples               int64\n",
       "clears.quads                 int64\n",
       "clears.realtspins            int64\n",
       "clears.minitspins            int64\n",
       "clears.minitspinsingles      int64\n",
       "clears.tspinsingles          int64\n",
       "clears.tspindoubles          int64\n",
       "clears.tspintriples          int64\n",
       "clears.allclear              int64\n",
       "finesse.combo                int64\n",
       "finesse.faults               int64\n",
       "finesse.perfectpieces        int64\n",
       "Stacking                    object\n",
       "Mix1                        object\n",
       "Mix2                        object\n",
       "Mix3                        object\n",
       "Rank                        object\n",
       "dtype: object"
      ]
     },
     "execution_count": 10,
     "metadata": {},
     "output_type": "execute_result"
    }
   ],
   "source": [
    "df3.dtypes"
   ]
  },
  {
   "cell_type": "code",
   "execution_count": 11,
   "id": "745b1211",
   "metadata": {},
   "outputs": [
    {
     "data": {
      "text/plain": [
       "Stacking\n",
       "Freestyle    301\n",
       "9-0          141\n",
       "Mix          103\n",
       "6-3           39\n",
       "0-9           30\n",
       "2 Wide        13\n",
       "Loop          10\n",
       "2 wide         8\n",
       "4 wide         4\n",
       "3 wide         3\n",
       "36770          3\n",
       "3 Wide         2\n",
       "MIx            1\n",
       "Mech           1\n",
       "3-6            1\n",
       "t spin         1\n",
       "5-4            1\n",
       "Name: count, dtype: int64"
      ]
     },
     "execution_count": 11,
     "metadata": {},
     "output_type": "execute_result"
    }
   ],
   "source": [
    "df3.Stacking.value_counts()"
   ]
  },
  {
   "cell_type": "markdown",
   "id": "dd80d2ef",
   "metadata": {},
   "source": [
    "**Fixing Incorrectly named Values** "
   ]
  },
  {
   "cell_type": "code",
   "execution_count": 12,
   "id": "b796c199",
   "metadata": {},
   "outputs": [],
   "source": [
    "df3.Stacking = df3.Stacking.map({\n",
    "    \"2 Wide\" : \"2 wide\",\n",
    "    \"3 Wide\" : \"3 wide\",\n",
    "    \"MIx\" : \"Mix\",\n",
    "    \"36770\" : \"9-0\"\n",
    "}).fillna(df3['Stacking'])"
   ]
  },
  {
   "cell_type": "code",
   "execution_count": 13,
   "id": "160dfca4",
   "metadata": {},
   "outputs": [
    {
     "data": {
      "text/plain": [
       "Stacking\n",
       "Freestyle    301\n",
       "9-0          144\n",
       "Mix          104\n",
       "6-3           39\n",
       "0-9           30\n",
       "2 wide        21\n",
       "Loop          10\n",
       "3 wide         5\n",
       "4 wide         4\n",
       "3-6            1\n",
       "Mech           1\n",
       "t spin         1\n",
       "5-4            1\n",
       "Name: count, dtype: int64"
      ]
     },
     "execution_count": 13,
     "metadata": {},
     "output_type": "execute_result"
    }
   ],
   "source": [
    "df3.Stacking.value_counts()"
   ]
  },
  {
   "cell_type": "markdown",
   "id": "a1f2e62f",
   "metadata": {},
   "source": [
    "**Dropping the stacking styles that don't appear frequently enough in the samples for the model to properly classify them**"
   ]
  },
  {
   "cell_type": "code",
   "execution_count": 14,
   "id": "cf565a8b",
   "metadata": {},
   "outputs": [],
   "source": [
    "values_to_drop = ['3-6','Mech','t spin','5-4']\n",
    "df4 = df3[~df3['Stacking'].isin(values_to_drop)]"
   ]
  },
  {
   "cell_type": "code",
   "execution_count": 15,
   "id": "189b501f",
   "metadata": {
    "scrolled": false
   },
   "outputs": [
    {
     "data": {
      "text/plain": [
       "array(['9-0', '2 wide', 'Freestyle', '3 wide', '0-9', 'Mix', 'Loop',\n",
       "       '4 wide', '6-3'], dtype=object)"
      ]
     },
     "execution_count": 15,
     "metadata": {},
     "output_type": "execute_result"
    }
   ],
   "source": [
    "df4.Stacking.unique()"
   ]
  },
  {
   "cell_type": "markdown",
   "id": "8250fe24",
   "metadata": {},
   "source": [
    "**Merging the different combo styles into one as they are all fairly similiar and the model would struggle to distinguish them**"
   ]
  },
  {
   "cell_type": "code",
   "execution_count": 16,
   "id": "5100b191",
   "metadata": {},
   "outputs": [],
   "source": [
    "df4.Stacking = df4.Stacking.map({\n",
    "    \"2 wide\" : \"Combo\",\n",
    "    \"3 wide\" : \"Combo\",\n",
    "    \"4 wide\" : \"Combo\"\n",
    "}).fillna(df4['Stacking'])"
   ]
  },
  {
   "cell_type": "code",
   "execution_count": 17,
   "id": "d1184a5e",
   "metadata": {},
   "outputs": [
    {
     "data": {
      "text/plain": [
       "Stacking\n",
       "Freestyle    301\n",
       "9-0          144\n",
       "Mix          104\n",
       "6-3           39\n",
       "Combo         30\n",
       "0-9           30\n",
       "Loop          10\n",
       "Name: count, dtype: int64"
      ]
     },
     "execution_count": 17,
     "metadata": {},
     "output_type": "execute_result"
    }
   ],
   "source": [
    "df4.Stacking.value_counts()"
   ]
  },
  {
   "cell_type": "markdown",
   "id": "6590072f",
   "metadata": {},
   "source": [
    "**Feature Engineering**"
   ]
  },
  {
   "cell_type": "code",
   "execution_count": 18,
   "id": "d6cc1ec7",
   "metadata": {},
   "outputs": [],
   "source": [
    "#Converting the sprint time into seconds instead of milliseconds for it to be more easily understood\n",
    "df4.finalTime = df4.finalTime/1000 \n",
    "#Adding an additional column Keys per piece(KPP) which represents the \n",
    "#average amount of key presses it took to place a single piece\n",
    "df4['KPP'] = df4.inputs/df.piecesplaced"
   ]
  },
  {
   "cell_type": "markdown",
   "id": "cf19fe19",
   "metadata": {},
   "source": [
    "<h2 style='color:blue'>Exploratory Data Analysis</h2>"
   ]
  },
  {
   "cell_type": "markdown",
   "id": "6239035f",
   "metadata": {},
   "source": [
    "**Grouping the data by stacking style and finding the average value for each column**"
   ]
  },
  {
   "cell_type": "code",
   "execution_count": 19,
   "id": "ece5a2ae",
   "metadata": {
    "scrolled": false
   },
   "outputs": [
    {
     "data": {
      "text/html": [
       "<div>\n",
       "<style scoped>\n",
       "    .dataframe tbody tr th:only-of-type {\n",
       "        vertical-align: middle;\n",
       "    }\n",
       "\n",
       "    .dataframe tbody tr th {\n",
       "        vertical-align: top;\n",
       "    }\n",
       "\n",
       "    .dataframe thead th {\n",
       "        text-align: right;\n",
       "    }\n",
       "</style>\n",
       "<table border=\"1\" class=\"dataframe\">\n",
       "  <thead>\n",
       "    <tr style=\"text-align: right;\">\n",
       "      <th></th>\n",
       "      <th>lines</th>\n",
       "      <th>inputs</th>\n",
       "      <th>holds</th>\n",
       "      <th>score</th>\n",
       "      <th>combo</th>\n",
       "      <th>topcombo</th>\n",
       "      <th>btb</th>\n",
       "      <th>topbtb</th>\n",
       "      <th>tspins</th>\n",
       "      <th>piecesplaced</th>\n",
       "      <th>finalTime</th>\n",
       "      <th>clears.singles</th>\n",
       "      <th>clears.doubles</th>\n",
       "      <th>clears.triples</th>\n",
       "      <th>clears.quads</th>\n",
       "      <th>clears.realtspins</th>\n",
       "      <th>clears.minitspins</th>\n",
       "      <th>clears.minitspinsingles</th>\n",
       "      <th>clears.tspinsingles</th>\n",
       "      <th>clears.tspindoubles</th>\n",
       "      <th>clears.tspintriples</th>\n",
       "      <th>clears.allclear</th>\n",
       "      <th>finesse.combo</th>\n",
       "      <th>finesse.faults</th>\n",
       "      <th>finesse.perfectpieces</th>\n",
       "      <th>KPP</th>\n",
       "    </tr>\n",
       "    <tr>\n",
       "      <th>Stacking</th>\n",
       "      <th></th>\n",
       "      <th></th>\n",
       "      <th></th>\n",
       "      <th></th>\n",
       "      <th></th>\n",
       "      <th></th>\n",
       "      <th></th>\n",
       "      <th></th>\n",
       "      <th></th>\n",
       "      <th></th>\n",
       "      <th></th>\n",
       "      <th></th>\n",
       "      <th></th>\n",
       "      <th></th>\n",
       "      <th></th>\n",
       "      <th></th>\n",
       "      <th></th>\n",
       "      <th></th>\n",
       "      <th></th>\n",
       "      <th></th>\n",
       "      <th></th>\n",
       "      <th></th>\n",
       "      <th></th>\n",
       "      <th></th>\n",
       "      <th></th>\n",
       "      <th></th>\n",
       "    </tr>\n",
       "  </thead>\n",
       "  <tbody>\n",
       "    <tr>\n",
       "      <th>9-0</th>\n",
       "      <td>40.256944</td>\n",
       "      <td>390.833333</td>\n",
       "      <td>20.090278</td>\n",
       "      <td>13388.048611</td>\n",
       "      <td>1.479167</td>\n",
       "      <td>2.500000</td>\n",
       "      <td>2.180556</td>\n",
       "      <td>6.256944</td>\n",
       "      <td>0.159722</td>\n",
       "      <td>104.361111</td>\n",
       "      <td>67.825104</td>\n",
       "      <td>3.534722</td>\n",
       "      <td>1.326389</td>\n",
       "      <td>0.826389</td>\n",
       "      <td>7.861111</td>\n",
       "      <td>0.055556</td>\n",
       "      <td>0.020833</td>\n",
       "      <td>0.006944</td>\n",
       "      <td>0.020833</td>\n",
       "      <td>0.048611</td>\n",
       "      <td>0.006944</td>\n",
       "      <td>0.055556</td>\n",
       "      <td>5.520833</td>\n",
       "      <td>65.805556</td>\n",
       "      <td>70.833333</td>\n",
       "      <td>3.738410</td>\n",
       "    </tr>\n",
       "    <tr>\n",
       "      <th>Combo</th>\n",
       "      <td>40.166667</td>\n",
       "      <td>415.533333</td>\n",
       "      <td>29.900000</td>\n",
       "      <td>11767.700000</td>\n",
       "      <td>2.933333</td>\n",
       "      <td>8.533333</td>\n",
       "      <td>0.066667</td>\n",
       "      <td>0.766667</td>\n",
       "      <td>0.233333</td>\n",
       "      <td>106.266667</td>\n",
       "      <td>75.531667</td>\n",
       "      <td>15.666667</td>\n",
       "      <td>7.500000</td>\n",
       "      <td>1.500000</td>\n",
       "      <td>1.200000</td>\n",
       "      <td>0.000000</td>\n",
       "      <td>0.033333</td>\n",
       "      <td>0.200000</td>\n",
       "      <td>0.000000</td>\n",
       "      <td>0.000000</td>\n",
       "      <td>0.000000</td>\n",
       "      <td>0.000000</td>\n",
       "      <td>2.100000</td>\n",
       "      <td>78.966667</td>\n",
       "      <td>67.100000</td>\n",
       "      <td>3.901565</td>\n",
       "    </tr>\n",
       "    <tr>\n",
       "      <th>Freestyle</th>\n",
       "      <td>40.166113</td>\n",
       "      <td>497.259136</td>\n",
       "      <td>13.119601</td>\n",
       "      <td>9761.265781</td>\n",
       "      <td>1.425249</td>\n",
       "      <td>3.139535</td>\n",
       "      <td>0.049834</td>\n",
       "      <td>1.142857</td>\n",
       "      <td>0.116279</td>\n",
       "      <td>105.906977</td>\n",
       "      <td>120.570465</td>\n",
       "      <td>17.156146</td>\n",
       "      <td>5.461794</td>\n",
       "      <td>1.694352</td>\n",
       "      <td>1.707641</td>\n",
       "      <td>0.009967</td>\n",
       "      <td>0.013289</td>\n",
       "      <td>0.013289</td>\n",
       "      <td>0.013289</td>\n",
       "      <td>0.053156</td>\n",
       "      <td>0.013289</td>\n",
       "      <td>0.019934</td>\n",
       "      <td>1.039867</td>\n",
       "      <td>157.172757</td>\n",
       "      <td>46.318937</td>\n",
       "      <td>4.677663</td>\n",
       "    </tr>\n",
       "    <tr>\n",
       "      <th>0-9</th>\n",
       "      <td>40.133333</td>\n",
       "      <td>407.100000</td>\n",
       "      <td>18.366667</td>\n",
       "      <td>12779.700000</td>\n",
       "      <td>1.500000</td>\n",
       "      <td>2.933333</td>\n",
       "      <td>0.766667</td>\n",
       "      <td>5.200000</td>\n",
       "      <td>0.200000</td>\n",
       "      <td>104.166667</td>\n",
       "      <td>75.140833</td>\n",
       "      <td>4.300000</td>\n",
       "      <td>1.866667</td>\n",
       "      <td>0.933333</td>\n",
       "      <td>7.233333</td>\n",
       "      <td>0.033333</td>\n",
       "      <td>0.000000</td>\n",
       "      <td>0.000000</td>\n",
       "      <td>0.033333</td>\n",
       "      <td>0.066667</td>\n",
       "      <td>0.066667</td>\n",
       "      <td>0.000000</td>\n",
       "      <td>2.300000</td>\n",
       "      <td>80.733333</td>\n",
       "      <td>64.366667</td>\n",
       "      <td>3.904353</td>\n",
       "    </tr>\n",
       "    <tr>\n",
       "      <th>Mix</th>\n",
       "      <td>40.230769</td>\n",
       "      <td>441.230769</td>\n",
       "      <td>22.076923</td>\n",
       "      <td>12056.855769</td>\n",
       "      <td>1.403846</td>\n",
       "      <td>4.086538</td>\n",
       "      <td>0.461538</td>\n",
       "      <td>3.259615</td>\n",
       "      <td>0.509615</td>\n",
       "      <td>105.326923</td>\n",
       "      <td>89.839151</td>\n",
       "      <td>10.009615</td>\n",
       "      <td>4.134615</td>\n",
       "      <td>1.413462</td>\n",
       "      <td>4.201923</td>\n",
       "      <td>0.009615</td>\n",
       "      <td>0.019231</td>\n",
       "      <td>0.019231</td>\n",
       "      <td>0.096154</td>\n",
       "      <td>0.307692</td>\n",
       "      <td>0.057692</td>\n",
       "      <td>0.067308</td>\n",
       "      <td>2.740385</td>\n",
       "      <td>98.211538</td>\n",
       "      <td>62.125000</td>\n",
       "      <td>4.183008</td>\n",
       "    </tr>\n",
       "    <tr>\n",
       "      <th>Loop</th>\n",
       "      <td>40.000000</td>\n",
       "      <td>376.000000</td>\n",
       "      <td>39.700000</td>\n",
       "      <td>35372.400000</td>\n",
       "      <td>1.900000</td>\n",
       "      <td>3.300000</td>\n",
       "      <td>0.000000</td>\n",
       "      <td>4.400000</td>\n",
       "      <td>10.000000</td>\n",
       "      <td>103.200000</td>\n",
       "      <td>37.197667</td>\n",
       "      <td>6.900000</td>\n",
       "      <td>4.000000</td>\n",
       "      <td>0.400000</td>\n",
       "      <td>1.700000</td>\n",
       "      <td>0.200000</td>\n",
       "      <td>0.200000</td>\n",
       "      <td>0.400000</td>\n",
       "      <td>2.900000</td>\n",
       "      <td>5.100000</td>\n",
       "      <td>1.200000</td>\n",
       "      <td>3.900000</td>\n",
       "      <td>13.200000</td>\n",
       "      <td>9.500000</td>\n",
       "      <td>95.300000</td>\n",
       "      <td>3.642485</td>\n",
       "    </tr>\n",
       "    <tr>\n",
       "      <th>6-3</th>\n",
       "      <td>40.000000</td>\n",
       "      <td>317.564103</td>\n",
       "      <td>35.846154</td>\n",
       "      <td>14278.641026</td>\n",
       "      <td>1.487179</td>\n",
       "      <td>2.128205</td>\n",
       "      <td>2.487179</td>\n",
       "      <td>8.076923</td>\n",
       "      <td>0.333333</td>\n",
       "      <td>101.692308</td>\n",
       "      <td>31.732650</td>\n",
       "      <td>2.025641</td>\n",
       "      <td>0.846154</td>\n",
       "      <td>0.282051</td>\n",
       "      <td>8.794872</td>\n",
       "      <td>0.076923</td>\n",
       "      <td>0.102564</td>\n",
       "      <td>0.025641</td>\n",
       "      <td>0.025641</td>\n",
       "      <td>0.102564</td>\n",
       "      <td>0.000000</td>\n",
       "      <td>0.128205</td>\n",
       "      <td>20.128205</td>\n",
       "      <td>12.743590</td>\n",
       "      <td>93.000000</td>\n",
       "      <td>3.123050</td>\n",
       "    </tr>\n",
       "  </tbody>\n",
       "</table>\n",
       "</div>"
      ],
      "text/plain": [
       "               lines      inputs      holds         score     combo  topcombo   \n",
       "Stacking                                                                        \n",
       "9-0        40.256944  390.833333  20.090278  13388.048611  1.479167  2.500000  \\\n",
       "Combo      40.166667  415.533333  29.900000  11767.700000  2.933333  8.533333   \n",
       "Freestyle  40.166113  497.259136  13.119601   9761.265781  1.425249  3.139535   \n",
       "0-9        40.133333  407.100000  18.366667  12779.700000  1.500000  2.933333   \n",
       "Mix        40.230769  441.230769  22.076923  12056.855769  1.403846  4.086538   \n",
       "Loop       40.000000  376.000000  39.700000  35372.400000  1.900000  3.300000   \n",
       "6-3        40.000000  317.564103  35.846154  14278.641026  1.487179  2.128205   \n",
       "\n",
       "                btb    topbtb     tspins  piecesplaced   finalTime   \n",
       "Stacking                                                             \n",
       "9-0        2.180556  6.256944   0.159722    104.361111   67.825104  \\\n",
       "Combo      0.066667  0.766667   0.233333    106.266667   75.531667   \n",
       "Freestyle  0.049834  1.142857   0.116279    105.906977  120.570465   \n",
       "0-9        0.766667  5.200000   0.200000    104.166667   75.140833   \n",
       "Mix        0.461538  3.259615   0.509615    105.326923   89.839151   \n",
       "Loop       0.000000  4.400000  10.000000    103.200000   37.197667   \n",
       "6-3        2.487179  8.076923   0.333333    101.692308   31.732650   \n",
       "\n",
       "           clears.singles  clears.doubles  clears.triples  clears.quads   \n",
       "Stacking                                                                  \n",
       "9-0              3.534722        1.326389        0.826389      7.861111  \\\n",
       "Combo           15.666667        7.500000        1.500000      1.200000   \n",
       "Freestyle       17.156146        5.461794        1.694352      1.707641   \n",
       "0-9              4.300000        1.866667        0.933333      7.233333   \n",
       "Mix             10.009615        4.134615        1.413462      4.201923   \n",
       "Loop             6.900000        4.000000        0.400000      1.700000   \n",
       "6-3              2.025641        0.846154        0.282051      8.794872   \n",
       "\n",
       "           clears.realtspins  clears.minitspins  clears.minitspinsingles   \n",
       "Stacking                                                                   \n",
       "9-0                 0.055556           0.020833                 0.006944  \\\n",
       "Combo               0.000000           0.033333                 0.200000   \n",
       "Freestyle           0.009967           0.013289                 0.013289   \n",
       "0-9                 0.033333           0.000000                 0.000000   \n",
       "Mix                 0.009615           0.019231                 0.019231   \n",
       "Loop                0.200000           0.200000                 0.400000   \n",
       "6-3                 0.076923           0.102564                 0.025641   \n",
       "\n",
       "           clears.tspinsingles  clears.tspindoubles  clears.tspintriples   \n",
       "Stacking                                                                   \n",
       "9-0                   0.020833             0.048611             0.006944  \\\n",
       "Combo                 0.000000             0.000000             0.000000   \n",
       "Freestyle             0.013289             0.053156             0.013289   \n",
       "0-9                   0.033333             0.066667             0.066667   \n",
       "Mix                   0.096154             0.307692             0.057692   \n",
       "Loop                  2.900000             5.100000             1.200000   \n",
       "6-3                   0.025641             0.102564             0.000000   \n",
       "\n",
       "           clears.allclear  finesse.combo  finesse.faults   \n",
       "Stacking                                                    \n",
       "9-0               0.055556       5.520833       65.805556  \\\n",
       "Combo             0.000000       2.100000       78.966667   \n",
       "Freestyle         0.019934       1.039867      157.172757   \n",
       "0-9               0.000000       2.300000       80.733333   \n",
       "Mix               0.067308       2.740385       98.211538   \n",
       "Loop              3.900000      13.200000        9.500000   \n",
       "6-3               0.128205      20.128205       12.743590   \n",
       "\n",
       "           finesse.perfectpieces       KPP  \n",
       "Stacking                                    \n",
       "9-0                    70.833333  3.738410  \n",
       "Combo                  67.100000  3.901565  \n",
       "Freestyle              46.318937  4.677663  \n",
       "0-9                    64.366667  3.904353  \n",
       "Mix                    62.125000  4.183008  \n",
       "Loop                   95.300000  3.642485  \n",
       "6-3                    93.000000  3.123050  "
      ]
     },
     "execution_count": 19,
     "metadata": {},
     "output_type": "execute_result"
    }
   ],
   "source": [
    "grouped = df4.groupby('Stacking')\n",
    "stacking_methods = df4['Stacking'].unique().tolist()\n",
    "group_df = grouped.mean(numeric_only=True).reindex(stacking_methods)\n",
    "group_df"
   ]
  },
  {
   "cell_type": "markdown",
   "id": "12db0d96",
   "metadata": {},
   "source": [
    "**While this does help a bit in understanding the differences, visualizing the data would help in get a better understanding**"
   ]
  },
  {
   "cell_type": "code",
   "execution_count": 20,
   "id": "41d6a708",
   "metadata": {},
   "outputs": [],
   "source": [
    "#The variables I thought would be most insightful  \n",
    "columns_to_plot = {'inputs': 'Inputs', 'holds':'Holds', 'score':'Score','topcombo':'Max Combo','tspins':'Tspins',\n",
    "                   'finalTime':'Sprint Time','clears.singles': 'Singles','clears.quads':'Tetrises',\n",
    "                   'clears.allclear':'Perfect Clears','finesse.faults':'Finesse Faults','KPP':'KPP'} "
   ]
  },
  {
   "cell_type": "code",
   "execution_count": 21,
   "id": "5ec62e4b",
   "metadata": {},
   "outputs": [
    {
     "data": {
      "image/png": "[encoded data removed]",
      "text/plain": [
       "<Figure size 800x600 with 11 Axes>"
      ]
     },
     "metadata": {},
     "output_type": "display_data"
    }
   ],
   "source": [
    "colors = sns.color_palette(\"Spectral\", n_colors=len(group_df))\n",
    "\n",
    "num_columns = 4\n",
    "num_rows = -(-len(columns_to_plot) // num_columns) \n",
    "fig, axes = plt.subplots(num_rows, num_columns, figsize=(8, 2*num_rows)) \n",
    "\n",
    "for i, column in enumerate(columns_to_plot):\n",
    "    row = i // num_columns  \n",
    "    col = i % num_columns  \n",
    "    ax = axes[row, col] if num_rows > 1 else axes[col] \n",
    "    sns.barplot(x=np.arange(len(group_df)), y=column, data=group_df, ax=ax, hue_order=stacking_methods, palette=colors)\n",
    "    ax.set_title(f\"Mean {columns_to_plot[column]}\")\n",
    "    ax.set_xticks([])\n",
    "\n",
    "    max_height = group_df[column].max()\n",
    "    ax.set_ylim(0, max_height + max_height * 0.1) \n",
    "\n",
    "    for p in ax.patches:\n",
    "        if p.get_height()<10:\n",
    "            ax.annotate(format(p.get_height(), '.1f'), (p.get_x() + p.get_width() / 2., p.get_height()+max_height*.025),\n",
    "                        ha='center', va='center', xytext=(0, 0), textcoords='offset points', fontsize=8)  \n",
    "        elif p.get_height()<1000:\n",
    "            ax.annotate(format(p.get_height(), '.0f'), (p.get_x() + p.get_width() / 2., p.get_height()+max_height*.025),\n",
    "                        ha='center', va='center', xytext=(0, 0), textcoords='offset points', fontsize=8) \n",
    "        else:\n",
    "            ax.annotate('{:.1f}k'.format(p.get_height() / 1000), (p.get_x() + p.get_width() / 2., p.get_height()+max_height*.025),\n",
    "                        ha='center', va='center', xytext=(0, 0), textcoords='offset points', fontsize=6) \n",
    "\n",
    "if len(columns_to_plot) < num_rows * num_columns:\n",
    "    for j in range(len(columns_to_plot), num_rows * num_columns):\n",
    "        fig.delaxes(axes.flatten()[j])\n",
    "\n",
    "handles, labels = ax.get_legend_handles_labels()\n",
    "\n",
    "handles = [plt.Rectangle((0, 0), 1, 1, color=colors[i]) for i in range(len(group_df))]\n",
    "labels = group_df.index.tolist()\n",
    "\n",
    "fig.legend(handles, labels, title='Stacking Method', loc='lower right')\n",
    "\n",
    "plt.tight_layout() \n",
    "plt.show()\n"
   ]
  },
  {
   "cell_type": "markdown",
   "id": "21983fcc",
   "metadata": {},
   "source": [
    "### Key Findings \n",
    "* 6-3 generally has lower input/kpp count as it is a more optimized stacking method\n",
    "* Loop has the highest hold count as you're looking for tspins and perfect clears which requires more holding\n",
    "* Freestyle requires less holding since you can rely on skims to get you out of most sitatuions\n",
    "* Loop has by far the highest average score since Looping was made to optimize score \n",
    "* Combo has the highest max combo average as its the main way of clearing lines in that method\n",
    "* Loop has by far highest average of Tspins and Perfect clears since most loops do both \n",
    "* 6-3 and Loop have the lowest average sprint time and finesse faults since they're higher skilled stacking methods \n",
    "* Combo and Freestyle have higher single clear averages as both methods rely on those types of clears\n",
    "* 9-0, 0-9, and 6-3 have high tetris clear averages as they're all tetris stacking methods"
   ]
  },
  {
   "cell_type": "markdown",
   "id": "8de53514",
   "metadata": {},
   "source": [
    "**I now wanted to look at the distribution of stacking styles**"
   ]
  },
  {
   "cell_type": "code",
   "execution_count": 22,
   "id": "02ce7b07",
   "metadata": {},
   "outputs": [
    {
     "data": {
      "image/png": "[encoded data removed]",
      "text/plain": [
       "<Figure size 640x480 with 1 Axes>"
      ]
     },
     "metadata": {},
     "output_type": "display_data"
    }
   ],
   "source": [
    "g = sns.countplot(data=df4, x=\"Stacking\", palette=dict(zip(stacking_methods, colors)))\n",
    "\n",
    "for p in g.patches:\n",
    "    g.annotate(format(p.get_height(), '.0f'), (p.get_x() + p.get_width() / 2., p.get_height()-4), \n",
    "               ha = 'center', va = 'center', xytext = (0, 10), textcoords = 'offset points')\n",
    "\n",
    "plt.show()"
   ]
  },
  {
   "cell_type": "markdown",
   "id": "c7153b83",
   "metadata": {},
   "source": [
    "**Freestyle seems to be the far most popular with 9-0 and Mix being fairly used as well, but I want to also see how the styles are distributed based on rank**"
   ]
  },
  {
   "cell_type": "code",
   "execution_count": 23,
   "id": "af818249",
   "metadata": {
    "scrolled": false
   },
   "outputs": [
    {
     "data": {
      "image/png": "[encoded data removed]",
      "text/plain": [
       "<Figure size 875x700 with 17 Axes>"
      ]
     },
     "metadata": {},
     "output_type": "display_data"
    }
   ],
   "source": [
    "rank_order = ['d', 'd+', 'c-','c','c+','b-','b','b+','a-','a','a+','s-','s','s+','ss','u','x']\n",
    "\n",
    "grouped_data = df4.groupby(['Rank', 'Stacking']).size().reset_index(name='Count')\n",
    "\n",
    "\n",
    "g = sns.FacetGrid(grouped_data, col='Rank', col_wrap=5, height=1.75,col_order=rank_order)\n",
    "g.map(sns.barplot, 'Stacking', 'Count', palette=dict(zip(stacking_methods, colors)))\n",
    "\n",
    "for ax, rank in zip(g.axes.flat, rank_order):\n",
    "    ax.set_title(f'{rank.upper()} Rank')\n",
    "    ax.set_xticklabels([])\n",
    "    ax.set_xlabel('')\n",
    "    \n",
    "    for p in ax.patches:\n",
    "        ax.annotate(f'{int(p.get_height())}', (p.get_x() + p.get_width() / 2., p.get_height()),\n",
    "                    ha='center', va='center', xytext=(0, 5), textcoords='offset points')\n",
    "\n",
    "handles = [plt.Rectangle((0,0),1,1, color=colors[i]) for i in range(len(stacking_methods))]\n",
    "labels = stacking_methods\n",
    "legend = plt.legend(handles, labels, title='Stacking Method',bbox_to_anchor=(3.5, 1.3))\n",
    "\n",
    "legend.get_frame().set_linewidth(0) \n",
    "plt.subplots_adjust(right=0.8)  \n",
    "\n",
    "plt.show()\n"
   ]
  },
  {
   "cell_type": "markdown",
   "id": "dba7a43d",
   "metadata": {},
   "source": [
    "### Key Findings\n",
    "* Freestyle is used a lot more used by lower ranked players (D to B+ rank), likely do to the fact that they don't know how to properly stack yet\n",
    "* As you get to the middle ranks (A- to S+ rank), you see a lot more 9-0 and comboing as players get better at stacking properly\n",
    "* At the higher ranks (SS to X rank) you can see 6-3 and Loop starting to emerge as they're the stacking methods that require the most skill to master"
   ]
  },
  {
   "cell_type": "markdown",
   "id": "3da1e47b",
   "metadata": {},
   "source": [
    "**Mix1, Mix2, and Mix3 were columns that showed the different stacking styles for players that had a mix as their stacking methods. I attempted to do multi hot encoding and then multi label classification with these columns, but scrapped the idea as I was only able to get models with at most 70% accuracy, likely because the model struggled to distinguish stacking styles like 0-9,9-0, and 6-3. Since these 3 columns and the rank column are not needed for the training, they are dropped**"
   ]
  },
  {
   "cell_type": "code",
   "execution_count": 24,
   "id": "f952e9d6",
   "metadata": {},
   "outputs": [],
   "source": [
    "df5 = df4.drop(['Rank','Mix1','Mix2','Mix3'], axis=1)"
   ]
  },
  {
   "cell_type": "markdown",
   "id": "039b1f29",
   "metadata": {},
   "source": [
    "<h2 style='color:blue'>Model Training</h2>"
   ]
  },
  {
   "cell_type": "markdown",
   "id": "fee58421",
   "metadata": {},
   "source": [
    "**Scaling the data with normalization so the model can better handle the differences in values** "
   ]
  },
  {
   "cell_type": "code",
   "execution_count": 25,
   "id": "d2983fba",
   "metadata": {},
   "outputs": [],
   "source": [
    "Scaler = StandardScaler()\n",
    "X = pd.DataFrame(Scaler.fit_transform(df5.drop('Stacking',axis=1)))\n",
    "y=df5['Stacking']"
   ]
  },
  {
   "cell_type": "code",
   "execution_count": 26,
   "id": "22e64402",
   "metadata": {
    "scrolled": true
   },
   "outputs": [
    {
     "data": {
      "text/plain": [
       "Stacking\n",
       "Freestyle    301\n",
       "9-0          144\n",
       "Mix          104\n",
       "6-3           39\n",
       "Combo         30\n",
       "0-9           30\n",
       "Loop          10\n",
       "Name: count, dtype: int64"
      ]
     },
     "execution_count": 26,
     "metadata": {},
     "output_type": "execute_result"
    }
   ],
   "source": [
    "y.value_counts()"
   ]
  },
  {
   "cell_type": "markdown",
   "id": "794f8f88",
   "metadata": {},
   "source": [
    "**Since the distribution of stacking styles is not very even, the model might struggle to handle accurately classifying stacking styles with only a few runs.I'll be using SMOTE, an oversampling technique, to even out the dataset**"
   ]
  },
  {
   "cell_type": "code",
   "execution_count": 27,
   "id": "7d0508bf",
   "metadata": {
    "scrolled": true
   },
   "outputs": [
    {
     "data": {
      "text/plain": [
       "Stacking\n",
       "9-0          301\n",
       "Combo        301\n",
       "Freestyle    301\n",
       "0-9          301\n",
       "Mix          301\n",
       "Loop         301\n",
       "6-3          301\n",
       "Name: count, dtype: int64"
      ]
     },
     "execution_count": 27,
     "metadata": {},
     "output_type": "execute_result"
    }
   ],
   "source": [
    "smote = SMOTE(random_state=0)\n",
    "X_resampled, y_resampled = smote.fit_resample(X, y)\n",
    "y_resampled.value_counts()"
   ]
  },
  {
   "cell_type": "markdown",
   "id": "805a95f0",
   "metadata": {},
   "source": [
    "**Train Test spliting the data and testing several different models to find those that have high accuracy**"
   ]
  },
  {
   "cell_type": "code",
   "execution_count": 28,
   "id": "0c3aa823",
   "metadata": {
    "scrolled": true
   },
   "outputs": [
    {
     "name": "stdout",
     "output_type": "stream",
     "text": [
      "              precision    recall  f1-score   support\n",
      "\n",
      "         0-9       0.92      0.99      0.95        91\n",
      "         6-3       0.96      1.00      0.98        90\n",
      "         9-0       0.90      0.78      0.83        90\n",
      "       Combo       0.94      1.00      0.97        90\n",
      "   Freestyle       0.94      0.87      0.90        91\n",
      "        Loop       1.00      1.00      1.00        91\n",
      "         Mix       0.79      0.81      0.80        90\n",
      "\n",
      "    accuracy                           0.92       633\n",
      "   macro avg       0.92      0.92      0.92       633\n",
      "weighted avg       0.92      0.92      0.92       633\n",
      "\n",
      "0.9210110584518167\n"
     ]
    }
   ],
   "source": [
    "X_train, X_test, y_train, y_test = train_test_split(X_resampled, y_resampled, test_size=0.3, random_state=0,stratify=y_resampled)\n",
    "clf = RandomForestClassifier()\n",
    "clf.fit(X_train,y_train)\n",
    "y_pred = clf.predict(X_test)\n",
    "print(classification_report(y_test,y_pred))\n",
    "print(accuracy_score(y_test,y_pred))"
   ]
  },
  {
   "cell_type": "markdown",
   "id": "5299f198",
   "metadata": {},
   "source": [
    "**We can see a fairly high accuracy for Random Forest and the different stackings precision, recall, and f1-score, but I'll create a confusion matrix so we can visually it better** "
   ]
  },
  {
   "cell_type": "code",
   "execution_count": 29,
   "id": "ab16fe8f",
   "metadata": {},
   "outputs": [
    {
     "data": {
      "image/png": "[encoded data removed]",
      "text/plain": [
       "<Figure size 500x350 with 2 Axes>"
      ]
     },
     "metadata": {},
     "output_type": "display_data"
    }
   ],
   "source": [
    "y_test_labels = np.unique(y_test)\n",
    "y_pred_labels = np.unique(y_pred)\n",
    "\n",
    "cm = confusion_matrix(y_test, y_pred)\n",
    "\n",
    "plt.figure(figsize=(5,3.5))\n",
    "sns.heatmap(cm, annot=True, xticklabels=y_pred_labels, yticklabels=y_test_labels)\n",
    "plt.xlabel('Classified')\n",
    "plt.ylabel('Actual')\n",
    "\n",
    "plt.show()"
   ]
  },
  {
   "cell_type": "markdown",
   "id": "7e69d9da",
   "metadata": {},
   "source": [
    "**Looking at the confusion matrix of the random forest model, we can see overall it is very accurate, but sometimes incorrectly classifies 9-0 sprints and often classifies Freestyle sprints as Mix sprints**  "
   ]
  },
  {
   "cell_type": "markdown",
   "id": "acea89a0",
   "metadata": {},
   "source": [
    "**I tested several different models and found that Random Forest, Gradient Boost, and K neighbors models do the best around 90%, so I'll do some hyperparameter tuning on these models using ShuffleSplit and GridSearchCV** "
   ]
  },
  {
   "cell_type": "code",
   "execution_count": 30,
   "id": "141c3bb5",
   "metadata": {},
   "outputs": [
    {
     "data": {
      "text/html": [
       "<div>\n",
       "<style scoped>\n",
       "    .dataframe tbody tr th:only-of-type {\n",
       "        vertical-align: middle;\n",
       "    }\n",
       "\n",
       "    .dataframe tbody tr th {\n",
       "        vertical-align: top;\n",
       "    }\n",
       "\n",
       "    .dataframe thead th {\n",
       "        text-align: right;\n",
       "    }\n",
       "</style>\n",
       "<table border=\"1\" class=\"dataframe\">\n",
       "  <thead>\n",
       "    <tr style=\"text-align: right;\">\n",
       "      <th></th>\n",
       "      <th>model</th>\n",
       "      <th>best_score</th>\n",
       "      <th>best_params</th>\n",
       "    </tr>\n",
       "  </thead>\n",
       "  <tbody>\n",
       "    <tr>\n",
       "      <th>0</th>\n",
       "      <td>random_forest</td>\n",
       "      <td>0.924645</td>\n",
       "      <td>{'criterion': 'log_loss', 'n_estimators': 1000}</td>\n",
       "    </tr>\n",
       "    <tr>\n",
       "      <th>1</th>\n",
       "      <td>gradient_boost</td>\n",
       "      <td>0.906161</td>\n",
       "      <td>{'loss': 'log_loss', 'n_estimators': 500}</td>\n",
       "    </tr>\n",
       "    <tr>\n",
       "      <th>2</th>\n",
       "      <td>k_neighbors</td>\n",
       "      <td>0.900948</td>\n",
       "      <td>{'algorithm': 'auto', 'n_neighbors': 3}</td>\n",
       "    </tr>\n",
       "  </tbody>\n",
       "</table>\n",
       "</div>"
      ],
      "text/plain": [
       "            model  best_score                                      best_params\n",
       "0   random_forest    0.924645  {'criterion': 'log_loss', 'n_estimators': 1000}\n",
       "1  gradient_boost    0.906161        {'loss': 'log_loss', 'n_estimators': 500}\n",
       "2     k_neighbors    0.900948          {'algorithm': 'auto', 'n_neighbors': 3}"
      ]
     },
     "execution_count": 30,
     "metadata": {},
     "output_type": "execute_result"
    }
   ],
   "source": [
    "model_params =  {\n",
    "        'random_forest' : {\n",
    "            'model': RandomForestClassifier(),\n",
    "            'params': {\n",
    "                'n_estimators' : [100,500,1000],\n",
    "                'criterion': [\"gini\", \"entropy\", \"log_loss\"]\n",
    "            }\n",
    "        },\n",
    "        'gradient_boost': {\n",
    "            'model': GradientBoostingClassifier(),\n",
    "            'params': {\n",
    "                'loss' : ['log_loss', 'deviance', 'exponential'],\n",
    "                'n_estimators' : [100,500,1000]\n",
    "            }\n",
    "        },\n",
    "        'k_neighbors': {\n",
    "            'model': KNeighborsClassifier(),\n",
    "            'params': {\n",
    "                'n_neighbors' : [3,5],\n",
    "                 'algorithm' : ['auto', 'ball_tree', 'kd_tree']\n",
    "            }\n",
    "        }\n",
    "    }\n",
    "def gridsearchcv(X,y):\n",
    "    scores = []\n",
    "    cv = ShuffleSplit(n_splits=5, test_size=0.2, random_state=0)\n",
    "    for algo_name, config in model_params.items():\n",
    "        gs =  GridSearchCV(config['model'], config['params'], cv=cv, return_train_score=False)\n",
    "        gs.fit(X,y)\n",
    "        scores.append({\n",
    "            'model': algo_name,\n",
    "            'best_score': gs.best_score_,\n",
    "            'best_params': gs.best_params_,\n",
    "        })\n",
    "\n",
    "    return pd.DataFrame(scores,columns=['model','best_score','best_params'])\n",
    "\n",
    "gridsearchcv(X_resampled,y_resampled)"
   ]
  },
  {
   "cell_type": "code",
   "execution_count": 31,
   "id": "04cfb5dd",
   "metadata": {
    "scrolled": false
   },
   "outputs": [
    {
     "data": {
      "text/html": [
       "<style>#sk-container-id-1 {color: black;background-color: white;}#sk-container-id-1 pre{padding: 0;}#sk-container-id-1 div.sk-toggleable {background-color: white;}#sk-container-id-1 label.sk-toggleable__label {cursor: pointer;display: block;width: 100%;margin-bottom: 0;padding: 0.3em;box-sizing: border-box;text-align: center;}#sk-container-id-1 label.sk-toggleable__label-arrow:before {content: \"▸\";float: left;margin-right: 0.25em;color: #696969;}#sk-container-id-1 label.sk-toggleable__label-arrow:hover:before {color: black;}#sk-container-id-1 div.sk-estimator:hover label.sk-toggleable__label-arrow:before {color: black;}#sk-container-id-1 div.sk-toggleable__content {max-height: 0;max-width: 0;overflow: hidden;text-align: left;background-color: #f0f8ff;}#sk-container-id-1 div.sk-toggleable__content pre {margin: 0.2em;color: black;border-radius: 0.25em;background-color: #f0f8ff;}#sk-container-id-1 input.sk-toggleable__control:checked~div.sk-toggleable__content {max-height: 200px;max-width: 100%;overflow: auto;}#sk-container-id-1 input.sk-toggleable__control:checked~label.sk-toggleable__label-arrow:before {content: \"▾\";}#sk-container-id-1 div.sk-estimator input.sk-toggleable__control:checked~label.sk-toggleable__label {background-color: #d4ebff;}#sk-container-id-1 div.sk-label input.sk-toggleable__control:checked~label.sk-toggleable__label {background-color: #d4ebff;}#sk-container-id-1 input.sk-hidden--visually {border: 0;clip: rect(1px 1px 1px 1px);clip: rect(1px, 1px, 1px, 1px);height: 1px;margin: -1px;overflow: hidden;padding: 0;position: absolute;width: 1px;}#sk-container-id-1 div.sk-estimator {font-family: monospace;background-color: #f0f8ff;border: 1px dotted black;border-radius: 0.25em;box-sizing: border-box;margin-bottom: 0.5em;}#sk-container-id-1 div.sk-estimator:hover {background-color: #d4ebff;}#sk-container-id-1 div.sk-parallel-item::after {content: \"\";width: 100%;border-bottom: 1px solid gray;flex-grow: 1;}#sk-container-id-1 div.sk-label:hover label.sk-toggleable__label {background-color: #d4ebff;}#sk-container-id-1 div.sk-serial::before {content: \"\";position: absolute;border-left: 1px solid gray;box-sizing: border-box;top: 0;bottom: 0;left: 50%;z-index: 0;}#sk-container-id-1 div.sk-serial {display: flex;flex-direction: column;align-items: center;background-color: white;padding-right: 0.2em;padding-left: 0.2em;position: relative;}#sk-container-id-1 div.sk-item {position: relative;z-index: 1;}#sk-container-id-1 div.sk-parallel {display: flex;align-items: stretch;justify-content: center;background-color: white;position: relative;}#sk-container-id-1 div.sk-item::before, #sk-container-id-1 div.sk-parallel-item::before {content: \"\";position: absolute;border-left: 1px solid gray;box-sizing: border-box;top: 0;bottom: 0;left: 50%;z-index: -1;}#sk-container-id-1 div.sk-parallel-item {display: flex;flex-direction: column;z-index: 1;position: relative;background-color: white;}#sk-container-id-1 div.sk-parallel-item:first-child::after {align-self: flex-end;width: 50%;}#sk-container-id-1 div.sk-parallel-item:last-child::after {align-self: flex-start;width: 50%;}#sk-container-id-1 div.sk-parallel-item:only-child::after {width: 0;}#sk-container-id-1 div.sk-dashed-wrapped {border: 1px dashed gray;margin: 0 0.4em 0.5em 0.4em;box-sizing: border-box;padding-bottom: 0.4em;background-color: white;}#sk-container-id-1 div.sk-label label {font-family: monospace;font-weight: bold;display: inline-block;line-height: 1.2em;}#sk-container-id-1 div.sk-label-container {text-align: center;}#sk-container-id-1 div.sk-container {/* jupyter's `normalize.less` sets `[hidden] { display: none; }` but bootstrap.min.css set `[hidden] { display: none !important; }` so we also need the `!important` here to be able to override the default hidden behavior on the sphinx rendered scikit-learn.org. See: https://github.com/scikit-learn/scikit-learn/issues/21755 */display: inline-block !important;position: relative;}#sk-container-id-1 div.sk-text-repr-fallback {display: none;}</style><div id=\"sk-container-id-1\" class=\"sk-top-container\"><div class=\"sk-text-repr-fallback\"><pre>RandomForestClassifier()</pre><b>In a Jupyter environment, please rerun this cell to show the HTML representation or trust the notebook. <br />On GitHub, the HTML representation is unable to render, please try loading this page with nbviewer.org.</b></div><div class=\"sk-container\" hidden><div class=\"sk-item\"><div class=\"sk-estimator sk-toggleable\"><input class=\"sk-toggleable__control sk-hidden--visually\" id=\"sk-estimator-id-1\" type=\"checkbox\" checked><label for=\"sk-estimator-id-1\" class=\"sk-toggleable__label sk-toggleable__label-arrow\">RandomForestClassifier</label><div class=\"sk-toggleable__content\"><pre>RandomForestClassifier()</pre></div></div></div></div></div>"
      ],
      "text/plain": [
       "RandomForestClassifier()"
      ]
     },
     "execution_count": 31,
     "metadata": {},
     "output_type": "execute_result"
    }
   ],
   "source": [
    "RF_clf = RandomForestClassifier(criterion='gini', n_estimators=100)\n",
    "RF_clf.fit(X_resampled,y_resampled)"
   ]
  },
  {
   "cell_type": "code",
   "execution_count": 32,
   "id": "84018902",
   "metadata": {},
   "outputs": [
    {
     "data": {
      "text/html": [
       "<style>#sk-container-id-2 {color: black;background-color: white;}#sk-container-id-2 pre{padding: 0;}#sk-container-id-2 div.sk-toggleable {background-color: white;}#sk-container-id-2 label.sk-toggleable__label {cursor: pointer;display: block;width: 100%;margin-bottom: 0;padding: 0.3em;box-sizing: border-box;text-align: center;}#sk-container-id-2 label.sk-toggleable__label-arrow:before {content: \"▸\";float: left;margin-right: 0.25em;color: #696969;}#sk-container-id-2 label.sk-toggleable__label-arrow:hover:before {color: black;}#sk-container-id-2 div.sk-estimator:hover label.sk-toggleable__label-arrow:before {color: black;}#sk-container-id-2 div.sk-toggleable__content {max-height: 0;max-width: 0;overflow: hidden;text-align: left;background-color: #f0f8ff;}#sk-container-id-2 div.sk-toggleable__content pre {margin: 0.2em;color: black;border-radius: 0.25em;background-color: #f0f8ff;}#sk-container-id-2 input.sk-toggleable__control:checked~div.sk-toggleable__content {max-height: 200px;max-width: 100%;overflow: auto;}#sk-container-id-2 input.sk-toggleable__control:checked~label.sk-toggleable__label-arrow:before {content: \"▾\";}#sk-container-id-2 div.sk-estimator input.sk-toggleable__control:checked~label.sk-toggleable__label {background-color: #d4ebff;}#sk-container-id-2 div.sk-label input.sk-toggleable__control:checked~label.sk-toggleable__label {background-color: #d4ebff;}#sk-container-id-2 input.sk-hidden--visually {border: 0;clip: rect(1px 1px 1px 1px);clip: rect(1px, 1px, 1px, 1px);height: 1px;margin: -1px;overflow: hidden;padding: 0;position: absolute;width: 1px;}#sk-container-id-2 div.sk-estimator {font-family: monospace;background-color: #f0f8ff;border: 1px dotted black;border-radius: 0.25em;box-sizing: border-box;margin-bottom: 0.5em;}#sk-container-id-2 div.sk-estimator:hover {background-color: #d4ebff;}#sk-container-id-2 div.sk-parallel-item::after {content: \"\";width: 100%;border-bottom: 1px solid gray;flex-grow: 1;}#sk-container-id-2 div.sk-label:hover label.sk-toggleable__label {background-color: #d4ebff;}#sk-container-id-2 div.sk-serial::before {content: \"\";position: absolute;border-left: 1px solid gray;box-sizing: border-box;top: 0;bottom: 0;left: 50%;z-index: 0;}#sk-container-id-2 div.sk-serial {display: flex;flex-direction: column;align-items: center;background-color: white;padding-right: 0.2em;padding-left: 0.2em;position: relative;}#sk-container-id-2 div.sk-item {position: relative;z-index: 1;}#sk-container-id-2 div.sk-parallel {display: flex;align-items: stretch;justify-content: center;background-color: white;position: relative;}#sk-container-id-2 div.sk-item::before, #sk-container-id-2 div.sk-parallel-item::before {content: \"\";position: absolute;border-left: 1px solid gray;box-sizing: border-box;top: 0;bottom: 0;left: 50%;z-index: -1;}#sk-container-id-2 div.sk-parallel-item {display: flex;flex-direction: column;z-index: 1;position: relative;background-color: white;}#sk-container-id-2 div.sk-parallel-item:first-child::after {align-self: flex-end;width: 50%;}#sk-container-id-2 div.sk-parallel-item:last-child::after {align-self: flex-start;width: 50%;}#sk-container-id-2 div.sk-parallel-item:only-child::after {width: 0;}#sk-container-id-2 div.sk-dashed-wrapped {border: 1px dashed gray;margin: 0 0.4em 0.5em 0.4em;box-sizing: border-box;padding-bottom: 0.4em;background-color: white;}#sk-container-id-2 div.sk-label label {font-family: monospace;font-weight: bold;display: inline-block;line-height: 1.2em;}#sk-container-id-2 div.sk-label-container {text-align: center;}#sk-container-id-2 div.sk-container {/* jupyter's `normalize.less` sets `[hidden] { display: none; }` but bootstrap.min.css set `[hidden] { display: none !important; }` so we also need the `!important` here to be able to override the default hidden behavior on the sphinx rendered scikit-learn.org. See: https://github.com/scikit-learn/scikit-learn/issues/21755 */display: inline-block !important;position: relative;}#sk-container-id-2 div.sk-text-repr-fallback {display: none;}</style><div id=\"sk-container-id-2\" class=\"sk-top-container\"><div class=\"sk-text-repr-fallback\"><pre>KNeighborsClassifier(n_neighbors=3)</pre><b>In a Jupyter environment, please rerun this cell to show the HTML representation or trust the notebook. <br />On GitHub, the HTML representation is unable to render, please try loading this page with nbviewer.org.</b></div><div class=\"sk-container\" hidden><div class=\"sk-item\"><div class=\"sk-estimator sk-toggleable\"><input class=\"sk-toggleable__control sk-hidden--visually\" id=\"sk-estimator-id-2\" type=\"checkbox\" checked><label for=\"sk-estimator-id-2\" class=\"sk-toggleable__label sk-toggleable__label-arrow\">KNeighborsClassifier</label><div class=\"sk-toggleable__content\"><pre>KNeighborsClassifier(n_neighbors=3)</pre></div></div></div></div></div>"
      ],
      "text/plain": [
       "KNeighborsClassifier(n_neighbors=3)"
      ]
     },
     "execution_count": 32,
     "metadata": {},
     "output_type": "execute_result"
    }
   ],
   "source": [
    "KN_clf = KNeighborsClassifier(n_neighbors=3, algorithm='auto')\n",
    "KN_clf.fit(X_resampled,y_resampled)"
   ]
  },
  {
   "cell_type": "code",
   "execution_count": 33,
   "id": "502a77af",
   "metadata": {},
   "outputs": [
    {
     "data": {
      "text/html": [
       "<style>#sk-container-id-3 {color: black;background-color: white;}#sk-container-id-3 pre{padding: 0;}#sk-container-id-3 div.sk-toggleable {background-color: white;}#sk-container-id-3 label.sk-toggleable__label {cursor: pointer;display: block;width: 100%;margin-bottom: 0;padding: 0.3em;box-sizing: border-box;text-align: center;}#sk-container-id-3 label.sk-toggleable__label-arrow:before {content: \"▸\";float: left;margin-right: 0.25em;color: #696969;}#sk-container-id-3 label.sk-toggleable__label-arrow:hover:before {color: black;}#sk-container-id-3 div.sk-estimator:hover label.sk-toggleable__label-arrow:before {color: black;}#sk-container-id-3 div.sk-toggleable__content {max-height: 0;max-width: 0;overflow: hidden;text-align: left;background-color: #f0f8ff;}#sk-container-id-3 div.sk-toggleable__content pre {margin: 0.2em;color: black;border-radius: 0.25em;background-color: #f0f8ff;}#sk-container-id-3 input.sk-toggleable__control:checked~div.sk-toggleable__content {max-height: 200px;max-width: 100%;overflow: auto;}#sk-container-id-3 input.sk-toggleable__control:checked~label.sk-toggleable__label-arrow:before {content: \"▾\";}#sk-container-id-3 div.sk-estimator input.sk-toggleable__control:checked~label.sk-toggleable__label {background-color: #d4ebff;}#sk-container-id-3 div.sk-label input.sk-toggleable__control:checked~label.sk-toggleable__label {background-color: #d4ebff;}#sk-container-id-3 input.sk-hidden--visually {border: 0;clip: rect(1px 1px 1px 1px);clip: rect(1px, 1px, 1px, 1px);height: 1px;margin: -1px;overflow: hidden;padding: 0;position: absolute;width: 1px;}#sk-container-id-3 div.sk-estimator {font-family: monospace;background-color: #f0f8ff;border: 1px dotted black;border-radius: 0.25em;box-sizing: border-box;margin-bottom: 0.5em;}#sk-container-id-3 div.sk-estimator:hover {background-color: #d4ebff;}#sk-container-id-3 div.sk-parallel-item::after {content: \"\";width: 100%;border-bottom: 1px solid gray;flex-grow: 1;}#sk-container-id-3 div.sk-label:hover label.sk-toggleable__label {background-color: #d4ebff;}#sk-container-id-3 div.sk-serial::before {content: \"\";position: absolute;border-left: 1px solid gray;box-sizing: border-box;top: 0;bottom: 0;left: 50%;z-index: 0;}#sk-container-id-3 div.sk-serial {display: flex;flex-direction: column;align-items: center;background-color: white;padding-right: 0.2em;padding-left: 0.2em;position: relative;}#sk-container-id-3 div.sk-item {position: relative;z-index: 1;}#sk-container-id-3 div.sk-parallel {display: flex;align-items: stretch;justify-content: center;background-color: white;position: relative;}#sk-container-id-3 div.sk-item::before, #sk-container-id-3 div.sk-parallel-item::before {content: \"\";position: absolute;border-left: 1px solid gray;box-sizing: border-box;top: 0;bottom: 0;left: 50%;z-index: -1;}#sk-container-id-3 div.sk-parallel-item {display: flex;flex-direction: column;z-index: 1;position: relative;background-color: white;}#sk-container-id-3 div.sk-parallel-item:first-child::after {align-self: flex-end;width: 50%;}#sk-container-id-3 div.sk-parallel-item:last-child::after {align-self: flex-start;width: 50%;}#sk-container-id-3 div.sk-parallel-item:only-child::after {width: 0;}#sk-container-id-3 div.sk-dashed-wrapped {border: 1px dashed gray;margin: 0 0.4em 0.5em 0.4em;box-sizing: border-box;padding-bottom: 0.4em;background-color: white;}#sk-container-id-3 div.sk-label label {font-family: monospace;font-weight: bold;display: inline-block;line-height: 1.2em;}#sk-container-id-3 div.sk-label-container {text-align: center;}#sk-container-id-3 div.sk-container {/* jupyter's `normalize.less` sets `[hidden] { display: none; }` but bootstrap.min.css set `[hidden] { display: none !important; }` so we also need the `!important` here to be able to override the default hidden behavior on the sphinx rendered scikit-learn.org. See: https://github.com/scikit-learn/scikit-learn/issues/21755 */display: inline-block !important;position: relative;}#sk-container-id-3 div.sk-text-repr-fallback {display: none;}</style><div id=\"sk-container-id-3\" class=\"sk-top-container\"><div class=\"sk-text-repr-fallback\"><pre>GradientBoostingClassifier(n_estimators=1000)</pre><b>In a Jupyter environment, please rerun this cell to show the HTML representation or trust the notebook. <br />On GitHub, the HTML representation is unable to render, please try loading this page with nbviewer.org.</b></div><div class=\"sk-container\" hidden><div class=\"sk-item\"><div class=\"sk-estimator sk-toggleable\"><input class=\"sk-toggleable__control sk-hidden--visually\" id=\"sk-estimator-id-3\" type=\"checkbox\" checked><label for=\"sk-estimator-id-3\" class=\"sk-toggleable__label sk-toggleable__label-arrow\">GradientBoostingClassifier</label><div class=\"sk-toggleable__content\"><pre>GradientBoostingClassifier(n_estimators=1000)</pre></div></div></div></div></div>"
      ],
      "text/plain": [
       "GradientBoostingClassifier(n_estimators=1000)"
      ]
     },
     "execution_count": 33,
     "metadata": {},
     "output_type": "execute_result"
    }
   ],
   "source": [
    "GB_clf = GradientBoostingClassifier(loss='log_loss', n_estimators=1000)\n",
    "GB_clf.fit(X_resampled,y_resampled)"
   ]
  },
  {
   "cell_type": "code",
   "execution_count": 34,
   "id": "8434ba7d",
   "metadata": {
    "scrolled": true
   },
   "outputs": [
    {
     "data": {
      "text/html": [
       "<div>\n",
       "<style scoped>\n",
       "    .dataframe tbody tr th:only-of-type {\n",
       "        vertical-align: middle;\n",
       "    }\n",
       "\n",
       "    .dataframe tbody tr th {\n",
       "        vertical-align: top;\n",
       "    }\n",
       "\n",
       "    .dataframe thead th {\n",
       "        text-align: right;\n",
       "    }\n",
       "</style>\n",
       "<table border=\"1\" class=\"dataframe\">\n",
       "  <thead>\n",
       "    <tr style=\"text-align: right;\">\n",
       "      <th></th>\n",
       "      <th>lines</th>\n",
       "      <th>inputs</th>\n",
       "      <th>holds</th>\n",
       "      <th>score</th>\n",
       "      <th>combo</th>\n",
       "      <th>topcombo</th>\n",
       "      <th>btb</th>\n",
       "      <th>topbtb</th>\n",
       "      <th>tspins</th>\n",
       "      <th>piecesplaced</th>\n",
       "      <th>finalTime</th>\n",
       "      <th>clears.singles</th>\n",
       "      <th>clears.doubles</th>\n",
       "      <th>clears.triples</th>\n",
       "      <th>clears.quads</th>\n",
       "      <th>clears.realtspins</th>\n",
       "      <th>clears.minitspins</th>\n",
       "      <th>clears.minitspinsingles</th>\n",
       "      <th>clears.tspinsingles</th>\n",
       "      <th>clears.tspindoubles</th>\n",
       "      <th>clears.tspintriples</th>\n",
       "      <th>clears.allclear</th>\n",
       "      <th>finesse.combo</th>\n",
       "      <th>finesse.faults</th>\n",
       "      <th>finesse.perfectpieces</th>\n",
       "      <th>Stacking</th>\n",
       "      <th>KPP</th>\n",
       "    </tr>\n",
       "  </thead>\n",
       "  <tbody>\n",
       "    <tr>\n",
       "      <th>0</th>\n",
       "      <td>40</td>\n",
       "      <td>408</td>\n",
       "      <td>23</td>\n",
       "      <td>12096</td>\n",
       "      <td>2</td>\n",
       "      <td>2</td>\n",
       "      <td>0</td>\n",
       "      <td>5</td>\n",
       "      <td>0</td>\n",
       "      <td>108</td>\n",
       "      <td>62.650000</td>\n",
       "      <td>11</td>\n",
       "      <td>1</td>\n",
       "      <td>1</td>\n",
       "      <td>6</td>\n",
       "      <td>0</td>\n",
       "      <td>0</td>\n",
       "      <td>0</td>\n",
       "      <td>0</td>\n",
       "      <td>0</td>\n",
       "      <td>0</td>\n",
       "      <td>0</td>\n",
       "      <td>0</td>\n",
       "      <td>74</td>\n",
       "      <td>67</td>\n",
       "      <td>9-0</td>\n",
       "      <td>3.777778</td>\n",
       "    </tr>\n",
       "    <tr>\n",
       "      <th>1</th>\n",
       "      <td>40</td>\n",
       "      <td>358</td>\n",
       "      <td>23</td>\n",
       "      <td>10802</td>\n",
       "      <td>1</td>\n",
       "      <td>6</td>\n",
       "      <td>0</td>\n",
       "      <td>1</td>\n",
       "      <td>0</td>\n",
       "      <td>102</td>\n",
       "      <td>79.260000</td>\n",
       "      <td>8</td>\n",
       "      <td>6</td>\n",
       "      <td>4</td>\n",
       "      <td>2</td>\n",
       "      <td>0</td>\n",
       "      <td>0</td>\n",
       "      <td>0</td>\n",
       "      <td>0</td>\n",
       "      <td>0</td>\n",
       "      <td>0</td>\n",
       "      <td>0</td>\n",
       "      <td>8</td>\n",
       "      <td>41</td>\n",
       "      <td>80</td>\n",
       "      <td>Combo</td>\n",
       "      <td>3.509804</td>\n",
       "    </tr>\n",
       "    <tr>\n",
       "      <th>2</th>\n",
       "      <td>40</td>\n",
       "      <td>353</td>\n",
       "      <td>3</td>\n",
       "      <td>9142</td>\n",
       "      <td>2</td>\n",
       "      <td>3</td>\n",
       "      <td>0</td>\n",
       "      <td>0</td>\n",
       "      <td>0</td>\n",
       "      <td>102</td>\n",
       "      <td>59.181667</td>\n",
       "      <td>18</td>\n",
       "      <td>8</td>\n",
       "      <td>2</td>\n",
       "      <td>0</td>\n",
       "      <td>0</td>\n",
       "      <td>0</td>\n",
       "      <td>0</td>\n",
       "      <td>0</td>\n",
       "      <td>0</td>\n",
       "      <td>0</td>\n",
       "      <td>0</td>\n",
       "      <td>1</td>\n",
       "      <td>56</td>\n",
       "      <td>70</td>\n",
       "      <td>Freestyle</td>\n",
       "      <td>3.460784</td>\n",
       "    </tr>\n",
       "    <tr>\n",
       "      <th>3</th>\n",
       "      <td>41</td>\n",
       "      <td>643</td>\n",
       "      <td>9</td>\n",
       "      <td>9111</td>\n",
       "      <td>1</td>\n",
       "      <td>3</td>\n",
       "      <td>0</td>\n",
       "      <td>0</td>\n",
       "      <td>0</td>\n",
       "      <td>107</td>\n",
       "      <td>104.233333</td>\n",
       "      <td>26</td>\n",
       "      <td>6</td>\n",
       "      <td>1</td>\n",
       "      <td>0</td>\n",
       "      <td>0</td>\n",
       "      <td>0</td>\n",
       "      <td>0</td>\n",
       "      <td>0</td>\n",
       "      <td>0</td>\n",
       "      <td>0</td>\n",
       "      <td>0</td>\n",
       "      <td>0</td>\n",
       "      <td>292</td>\n",
       "      <td>24</td>\n",
       "      <td>Freestyle</td>\n",
       "      <td>6.009346</td>\n",
       "    </tr>\n",
       "    <tr>\n",
       "      <th>4</th>\n",
       "      <td>40</td>\n",
       "      <td>441</td>\n",
       "      <td>27</td>\n",
       "      <td>12574</td>\n",
       "      <td>1</td>\n",
       "      <td>11</td>\n",
       "      <td>0</td>\n",
       "      <td>1</td>\n",
       "      <td>2</td>\n",
       "      <td>104</td>\n",
       "      <td>103.871667</td>\n",
       "      <td>20</td>\n",
       "      <td>9</td>\n",
       "      <td>0</td>\n",
       "      <td>0</td>\n",
       "      <td>0</td>\n",
       "      <td>0</td>\n",
       "      <td>2</td>\n",
       "      <td>0</td>\n",
       "      <td>0</td>\n",
       "      <td>0</td>\n",
       "      <td>0</td>\n",
       "      <td>0</td>\n",
       "      <td>101</td>\n",
       "      <td>58</td>\n",
       "      <td>Combo</td>\n",
       "      <td>4.240385</td>\n",
       "    </tr>\n",
       "  </tbody>\n",
       "</table>\n",
       "</div>"
      ],
      "text/plain": [
       "   lines  inputs  holds  score  combo  topcombo  btb  topbtb  tspins   \n",
       "0     40     408     23  12096      2         2    0       5       0  \\\n",
       "1     40     358     23  10802      1         6    0       1       0   \n",
       "2     40     353      3   9142      2         3    0       0       0   \n",
       "3     41     643      9   9111      1         3    0       0       0   \n",
       "4     40     441     27  12574      1        11    0       1       2   \n",
       "\n",
       "   piecesplaced   finalTime  clears.singles  clears.doubles  clears.triples   \n",
       "0           108   62.650000              11               1               1  \\\n",
       "1           102   79.260000               8               6               4   \n",
       "2           102   59.181667              18               8               2   \n",
       "3           107  104.233333              26               6               1   \n",
       "4           104  103.871667              20               9               0   \n",
       "\n",
       "   clears.quads  clears.realtspins  clears.minitspins   \n",
       "0             6                  0                  0  \\\n",
       "1             2                  0                  0   \n",
       "2             0                  0                  0   \n",
       "3             0                  0                  0   \n",
       "4             0                  0                  0   \n",
       "\n",
       "   clears.minitspinsingles  clears.tspinsingles  clears.tspindoubles   \n",
       "0                        0                    0                    0  \\\n",
       "1                        0                    0                    0   \n",
       "2                        0                    0                    0   \n",
       "3                        0                    0                    0   \n",
       "4                        2                    0                    0   \n",
       "\n",
       "   clears.tspintriples  clears.allclear  finesse.combo  finesse.faults   \n",
       "0                    0                0              0              74  \\\n",
       "1                    0                0              8              41   \n",
       "2                    0                0              1              56   \n",
       "3                    0                0              0             292   \n",
       "4                    0                0              0             101   \n",
       "\n",
       "   finesse.perfectpieces   Stacking       KPP  \n",
       "0                     67        9-0  3.777778  \n",
       "1                     80      Combo  3.509804  \n",
       "2                     70  Freestyle  3.460784  \n",
       "3                     24  Freestyle  6.009346  \n",
       "4                     58      Combo  4.240385  "
      ]
     },
     "execution_count": 34,
     "metadata": {},
     "output_type": "execute_result"
    }
   ],
   "source": [
    "df5.head()"
   ]
  },
  {
   "cell_type": "markdown",
   "id": "301c4aae",
   "metadata": {},
   "source": [
    "<h2 style='color:blue'>Testing the Models</h2>"
   ]
  },
  {
   "cell_type": "markdown",
   "id": "6acf738f",
   "metadata": {},
   "source": [
    "**I created functions to compare the classication results for each model and used several top players' sprints. Credits to fortissim2 and their sheet for player reference https://docs.google.com/spreadsheets/d/1lfcOYz7ZIIwXl4XLKECpXba-noL_wrhWl8xG1KyFZDg/edit#gid=341372929**"
   ]
  },
  {
   "cell_type": "code",
   "execution_count": 35,
   "id": "2780a9aa",
   "metadata": {},
   "outputs": [],
   "source": [
    "def get_sprint_data(username):\n",
    "    url = f\"https://ch.tetr.io/api/users/{username.lower()}/records\"\n",
    "    response = requests.get(url)\n",
    "    if response.status_code == 200:\n",
    "        if not pd.DataFrame(response.json()['data']['records']['40l']['record']).empty:\n",
    "            sprint_data = pd.json_normalize(response.json()['data']['records']['40l']['record']['endcontext'])\n",
    "            return sprint_data, response.json()['data']['records']['40l']['record']['replayid']\n",
    "        \n",
    "def classify_sprint(username):\n",
    "    try: \n",
    "        sprint_data, replay = get_sprint_data(username)\n",
    "    except:\n",
    "        print(\"User doesn't exist or does not have a sprint\")\n",
    "        return\n",
    "    sprint_data2 = sprint_data.drop(['level_lines','level_lines_needed','zenlevel',\n",
    "             'zenprogress','level','currentcombopower','kills',\n",
    "             'time.start','time.prev','time.frameoffset','gametype',\n",
    "             'clears.minitspindoubles','clears.tspinquads','garbage.sent',\n",
    "             'garbage.received','garbage.attack','garbage.cleared','currentbtbchainpower','time.zero','time.locked','seed'],axis=1,errors='ignore')\n",
    "    sprint_data2['KPP']=sprint_data2.inputs/sprint_data2.piecesplaced\n",
    "    sprint_data2['finalTime'] = sprint_data2['finalTime']/1000\n",
    "    if 'holds' not in sprint_data2.columns:\n",
    "        sprint_data2.insert(2, 'holds', 0)\n",
    "    sprint_data3 = Scaler.transform(sprint_data2)\n",
    "    classification1 = RF_clf.predict(sprint_data3)[0]\n",
    "    classification2 = KN_clf.predict(sprint_data3)[0]\n",
    "    classification3 = GB_clf.predict(sprint_data3)[0]\n",
    "    print('Random Forest Classification sprint pb is : ' + classification1)\n",
    "    print('K Neighbors Classification sprint pb is : ' + classification2)\n",
    "    print('Gradient Boost Classification sprint pb is : ' + classification3)\n",
    "    print(f\"https://tetr.io/#r:{replay}\")"
   ]
  },
  {
   "cell_type": "code",
   "execution_count": 36,
   "id": "604703da",
   "metadata": {
    "scrolled": true
   },
   "outputs": [
    {
     "name": "stdout",
     "output_type": "stream",
     "text": [
      "Random Forest Classification sprint pb is : 9-0\n",
      "K Neighbors Classification sprint pb is : 6-3\n",
      "Gradient Boost Classification sprint pb is : 9-0\n",
      "https://tetr.io/#r:62ea03ca401ae720e6b5f287\n"
     ]
    }
   ],
   "source": [
    "classify_sprint('blaarg') # Actual is 6-3"
   ]
  },
  {
   "cell_type": "code",
   "execution_count": 37,
   "id": "66635c73",
   "metadata": {
    "scrolled": true
   },
   "outputs": [
    {
     "name": "stdout",
     "output_type": "stream",
     "text": [
      "Random Forest Classification sprint pb is : 9-0\n",
      "K Neighbors Classification sprint pb is : 6-3\n",
      "Gradient Boost Classification sprint pb is : 9-0\n",
      "https://tetr.io/#r:64734dd8bcca5759983610a3\n"
     ]
    }
   ],
   "source": [
    "classify_sprint('Rideris') # Actual is 9-0"
   ]
  },
  {
   "cell_type": "code",
   "execution_count": 38,
   "id": "453ad3bb",
   "metadata": {},
   "outputs": [
    {
     "name": "stdout",
     "output_type": "stream",
     "text": [
      "Random Forest Classification sprint pb is : 9-0\n",
      "K Neighbors Classification sprint pb is : 6-3\n",
      "Gradient Boost Classification sprint pb is : 9-0\n",
      "https://tetr.io/#r:63443cfd502118e7df3a8544\n"
     ]
    }
   ],
   "source": [
    "classify_sprint('fortissim2') # Actual is 6-3"
   ]
  },
  {
   "cell_type": "code",
   "execution_count": 39,
   "id": "a0383569",
   "metadata": {},
   "outputs": [
    {
     "name": "stdout",
     "output_type": "stream",
     "text": [
      "Random Forest Classification sprint pb is : Loop\n",
      "K Neighbors Classification sprint pb is : Loop\n",
      "Gradient Boost Classification sprint pb is : Loop\n",
      "https://tetr.io/#r:63ab37074d1ec80965d08368\n"
     ]
    }
   ],
   "source": [
    "classify_sprint('fesh') # Actual is Loop"
   ]
  },
  {
   "cell_type": "code",
   "execution_count": 40,
   "id": "281c1a89",
   "metadata": {},
   "outputs": [
    {
     "name": "stdout",
     "output_type": "stream",
     "text": [
      "Random Forest Classification sprint pb is : Freestyle\n",
      "K Neighbors Classification sprint pb is : 6-3\n",
      "Gradient Boost Classification sprint pb is : Freestyle\n",
      "https://tetr.io/#r:647255a924b3898e74f1c96a\n"
     ]
    }
   ],
   "source": [
    "classify_sprint('westl') # Actual is Freestyle"
   ]
  },
  {
   "cell_type": "markdown",
   "id": "65f55d6a",
   "metadata": {},
   "source": [
    "**K Neighbors was able to correctly classify players like fortissim and blaarg when the other two models couldn't but incorrectly classified Rideru and Westl or as well while the others got it correct. I'll go with Random Forest because while Gradient Boost did get the same classifications, it did have a slighly lower accuracy during the hyperparamter tuning** "
   ]
  },
  {
   "cell_type": "markdown",
   "id": "d84e0f3e",
   "metadata": {},
   "source": [
    "**Using Random Forest, we can look at the feature importance of certain variables to see which ones the model finds most useful in classifying sprints** "
   ]
  },
  {
   "cell_type": "code",
   "execution_count": 44,
   "id": "cbf87338",
   "metadata": {},
   "outputs": [
    {
     "name": "stdout",
     "output_type": "stream",
     "text": [
      "Feature importance ranking:\n",
      "1. Feature score: 0.11110449289875954\n",
      "2. Feature topcombo: 0.09319180893877844\n",
      "3. Feature clears.quads: 0.09198197967569309\n",
      "4. Feature topbtb: 0.0646336410643986\n",
      "5. Feature holds: 0.06330655102252201\n",
      "6. Feature finesse.perfectpieces: 0.060256561013116404\n",
      "7. Feature finesse.faults: 0.05950963031552188\n",
      "8. Feature clears.singles: 0.055810850814138654\n",
      "9. Feature finalTime: 0.049501393924898586\n",
      "10. Feature clears.doubles: 0.04665086302185391\n",
      "11. Feature inputs: 0.039787421057977446\n",
      "12. Feature clears.tspindoubles: 0.03691826294337977\n",
      "13. Feature KPP: 0.03598479352413872\n",
      "14. Feature clears.allclear: 0.03070724078058656\n",
      "15. Feature piecesplaced: 0.03007713780203013\n",
      "16. Feature tspins: 0.028036940957109294\n",
      "17. Feature finesse.combo: 0.026517267157243358\n",
      "18. Feature clears.triples: 0.02586897781758463\n",
      "19. Feature combo: 0.014291012450862449\n",
      "20. Feature btb: 0.011065231218180472\n",
      "21. Feature clears.tspinsingles: 0.010435536717277047\n",
      "22. Feature lines: 0.009008490303906973\n",
      "23. Feature clears.realtspins: 0.0017151465776977836\n",
      "24. Feature clears.tspintriples: 0.0014516680819809246\n",
      "25. Feature clears.minitspinsingles: 0.0012863408931057666\n",
      "26. Feature clears.minitspins: 0.0009007590272575119\n"
     ]
    }
   ],
   "source": [
    "importances = RF_clf.feature_importances_\n",
    "\n",
    "\n",
    "indices = np.argsort(importances)[::-1]\n",
    "\n",
    "print(\"Feature importance ranking:\")\n",
    "for i, idx in enumerate(indices):\n",
    "    print(f\"{i+1}. Feature {df5.drop('Stacking',axis=1).columns[idx]}: {importances[idx]}\")"
   ]
  },
  {
   "cell_type": "code",
   "execution_count": 42,
   "id": "26e17e6b",
   "metadata": {},
   "outputs": [],
   "source": [
    "with open('sprint_classification_model.pickle','wb') as f:\n",
    "    pickle.dump(RF_clf,f)\n",
    "with open('data_scaler.pickle','wb') as f:\n",
    "    pickle.dump(Scaler,f)"
   ]
  }
 ],
 "metadata": {
  "kernelspec": {
   "display_name": "Python 3 (ipykernel)",
   "language": "python",
   "name": "python3"
  },
  "language_info": {
   "codemirror_mode": {
    "name": "ipython",
    "version": 3
   },
   "file_extension": ".py",
   "mimetype": "text/x-python",
   "name": "python",
   "nbconvert_exporter": "python",
   "pygments_lexer": "ipython3",
   "version": "3.9.13"
  }
 },
 "nbformat": 4,
 "nbformat_minor": 5
}
